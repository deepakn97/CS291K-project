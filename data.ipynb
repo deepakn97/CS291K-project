{
 "cells": [
  {
   "cell_type": "code",
   "execution_count": 1,
   "metadata": {},
   "outputs": [
    {
     "name": "stderr",
     "output_type": "stream",
     "text": [
      "/home/dnathani/miniconda3/envs/proj/lib/python3.8/site-packages/tqdm/auto.py:22: TqdmWarning: IProgress not found. Please update jupyter and ipywidgets. See https://ipywidgets.readthedocs.io/en/stable/user_install.html\n",
      "  from .autonotebook import tqdm as notebook_tqdm\n"
     ]
    }
   ],
   "source": [
    "from data import CustomDataset, load_vocabulary, get_dataset_loader"
   ]
  },
  {
   "cell_type": "code",
   "execution_count": 3,
   "metadata": {},
   "outputs": [],
   "source": [
    "batch_size = 32\n",
    "pad_idx = 0\n",
    "train_data = CustomDataset(\"wmt14_en_validation.src\", \"wmt14_fr_validation.trg\")\n",
    "val_data = CustomDataset(\"wmt14_en_test.src\", \"wmt14_fr_test.trg\")\n",
    "train_loader = get_dataset_loader(train_data, batch_size, pad_idx)\n",
    "val_loader = get_dataset_loader(val_data, batch_size, pad_idx)"
   ]
  },
  {
   "cell_type": "code",
   "execution_count": 7,
   "metadata": {},
   "outputs": [
    {
     "name": "stdout",
     "output_type": "stream",
     "text": [
      "torch.Size([97, 32])\n",
      "torch.Size([60, 32])\n",
      "torch.Size([51, 32])\n"
     ]
    }
   ],
   "source": [
    "for i, batch in enumerate(train_loader):\n",
    "  print(batch[0].shape)\n",
    "  if i == 2:\n",
    "    break"
   ]
  },
  {
   "cell_type": "code",
   "execution_count": null,
   "metadata": {},
   "outputs": [],
   "source": []
  }
 ],
 "metadata": {
  "language_info": {
   "name": "python"
  },
  "orig_nbformat": 4
 },
 "nbformat": 4,
 "nbformat_minor": 2
}
