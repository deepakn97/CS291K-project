{
 "cells": [
  {
   "cell_type": "code",
   "execution_count": null,
   "metadata": {},
   "outputs": [
    {
     "ename": "",
     "evalue": "",
     "output_type": "error",
     "traceback": [
      "\u001b[1;31mRunning cells with 'Python 3.10.6 ('CS291K-project')' requires ipykernel package.\n",
      "\u001b[1;31mRun the following command to install 'ipykernel' into the Python environment. \n",
      "\u001b[1;31mCommand: 'conda install -n CS291K-project ipykernel --update-deps --force-reinstall'"
     ]
    }
   ],
   "source": [
    "from datasets import inspect_dataset, load_dataset_builder\n",
    "\n",
    "inspect_dataset(\"wmt14\", \"path/to/scripts\")\n",
    "builder = load_dataset_builder(\n",
    "    \"path/to/scripts/wmt_utils.py\",\n",
    "    language_pair=(\"fr\", \"de\"),\n",
    "    subsets={\n",
    "        datasets.Split.TRAIN: [\"commoncrawl_frde\"],\n",
    "        datasets.Split.VALIDATION: [\"euelections_dev2019\"],\n",
    "    },\n",
    ")\n",
    "\n",
    "# Standard version\n",
    "builder.download_and_prepare()\n",
    "ds = builder.as_dataset()"
   ]
  },
  {
   "cell_type": "code",
   "execution_count": null,
   "metadata": {},
   "outputs": [],
   "source": [
    "from transformers import GPT2Tokenizer\n",
    "tokenizer = GPT2Tokenizer.from_pretrained(\"gpt2\")"
   ]
  },
  {
   "cell_type": "code",
   "execution_count": null,
   "metadata": {},
   "outputs": [],
   "source": [
    "# training set\n",
    "filename_source = \"wmt_fr_en_training.src\"\n",
    "filename_target = \"wmt_fr_en_training.trg\"\n",
    "\n",
    "f_source =  open(filename_source, 'w+')\n",
    "f_target = open(filename_target, 'w+')\n",
    "\n",
    "    for sentence in ds[\"train\"]:\n",
    "        fr_sentence = sentence['fr']\n",
    "        en_sentence = sentence['en']\n",
    "        \n",
    "        fr_sentence_tokenized = tokenizer.tokenize(fr_sentence)\n",
    "        en_sentence_tokenized = tokenizer.tokenize(en_sentence)\n",
    "\n",
    "        f.write({'en'})\n",
    "\n"
   ]
  }
 ],
 "metadata": {
  "kernelspec": {
   "display_name": "Python 3.10.6 ('CS291K-project')",
   "language": "python",
   "name": "python3"
  },
  "language_info": {
   "name": "python",
   "version": "3.10.6"
  },
  "orig_nbformat": 4,
  "vscode": {
   "interpreter": {
    "hash": "31ae3f36acde26ff8b642e5f9b307b89a808ed6cf329b38f638f09c926dbe95f"
   }
  }
 },
 "nbformat": 4,
 "nbformat_minor": 2
}
