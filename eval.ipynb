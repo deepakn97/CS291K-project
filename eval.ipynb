{
 "cells": [
  {
   "cell_type": "markdown",
   "metadata": {},
   "source": [
    "# Evaluation"
   ]
  },
  {
   "cell_type": "markdown",
   "metadata": {},
   "source": [
    "## Open dataset"
   ]
  },
  {
   "cell_type": "code",
   "execution_count": 1,
   "metadata": {},
   "outputs": [],
   "source": [
    "from pathlib import Path\n",
    "from constants import *\n",
    "\n",
    "# Open source\n",
    "with open(Path(DATASET_DIR, 'wmt14_en_test.src'), 'r') as f:\n",
    "    source_dataset = []\n",
    "    for sentence in f:\n",
    "        source_dataset.append([int(x) for x in sentence.split(' ')[:-1]])\n",
    "\n",
    "# Open target\n",
    "with open(Path(DATASET_DIR, 'wmt14_fr_test.trg'), 'r') as f:\n",
    "    target_dataset = []\n",
    "    for sentence in f:\n",
    "        target_dataset.append([int(x) for x in sentence.split(' ')[:-1]])\n"
   ]
  },
  {
   "cell_type": "markdown",
   "metadata": {},
   "source": [
    "## Create the model"
   ]
  },
  {
   "cell_type": "code",
   "execution_count": 2,
   "metadata": {},
   "outputs": [
    {
     "name": "stderr",
     "output_type": "stream",
     "text": [
      "/data4/aamayuelasfernandez/anaconda3/envs/CS291K-project/lib/python3.8/site-packages/tqdm/auto.py:22: TqdmWarning: IProgress not found. Please update jupyter and ipywidgets. See https://ipywidgets.readthedocs.io/en/stable/user_install.html\n",
      "  from .autonotebook import tqdm as notebook_tqdm\n"
     ]
    }
   ],
   "source": [
    "from transformers import GPT2Tokenizer\n",
    "\n",
    "tokenizer = GPT2Tokenizer.from_pretrained('./models/tokenizer')"
   ]
  },
  {
   "cell_type": "code",
   "execution_count": 3,
   "metadata": {},
   "outputs": [],
   "source": [
    "from models import Transformer\n",
    "import json\n",
    "\n",
    "with open(\"config.json\") as f:\n",
    "    config = json.load(f)\n",
    "\n",
    "embed_dim = config.get('EMBED_DIM', 256)\n",
    "tokenizer = GPT2Tokenizer.from_pretrained('./models/tokenizer')\n",
    "vocab_size = tokenizer.vocab_size\n",
    "special_tokens = len(tokenizer.special_tokens_map)\n",
    "num_encoder_layers = config.get('NUM_ENCODER_LAYERS', 2)\n",
    "num_decoder_layers = config.get('NUM_DECODER_LAYERS', 2)\n",
    "n_heads = config.get('NUM_ATTENTION_HEADS', 4)\n",
    "ffn_hidden_dim = config.get('FFN_HIDDEN_DIM', 512)\n",
    "\n",
    "# Load the model \n",
    "model = Transformer(\n",
    "embed_dim=embed_dim,\n",
    "src_vocab_size=vocab_size + special_tokens,\n",
    "trg_vocab_size=vocab_size + special_tokens,\n",
    "num_layers_enc=num_encoder_layers,\n",
    "num_layers_dec=num_decoder_layers,\n",
    "n_head=n_heads,\n",
    "hidden_size=ffn_hidden_dim\n",
    ")"
   ]
  },
  {
   "cell_type": "markdown",
   "metadata": {},
   "source": [
    "## Make a prediction"
   ]
  },
  {
   "cell_type": "code",
   "execution_count": 4,
   "metadata": {},
   "outputs": [],
   "source": [
    "import torch"
   ]
  },
  {
   "cell_type": "code",
   "execution_count": 5,
   "metadata": {},
   "outputs": [
    {
     "data": {
      "text/plain": [
       "[[50257, 49738, 12754, 17330, 5013, 15903, 3827, 21555, 4265, 50258]]"
      ]
     },
     "execution_count": 5,
     "metadata": {},
     "output_type": "execute_result"
    }
   ],
   "source": [
    "source = [source_dataset[0]]\n",
    "source"
   ]
  },
  {
   "cell_type": "code",
   "execution_count": 6,
   "metadata": {},
   "outputs": [],
   "source": [
    "tokenizer = GPT2Tokenizer.from_pretrained('./models/tokenizer')\n",
    "pad_idx = tokenizer.pad_token_id"
   ]
  },
  {
   "cell_type": "code",
   "execution_count": 28,
   "metadata": {},
   "outputs": [],
   "source": [
    "# Prediction \n",
    "source = torch.LongTensor(source)\n",
    "max_seq_len = 512\n",
    "source_mask = torch.ones(1, 1, source.size(1))\n",
    "# Prediction \n",
    "prediction = model.generate_greedy(source, source_mask, max_seq_len, tokenizer.bos_token_id, tokenizer.eos_token_id)\n",
    "txt_prediction = tokenizer.decode(prediction[0])\n",
    "txt_prediction = [word for word in txt_prediction.split(\" \") if (word != tokenizer.bos_token and word != tokenizer.eos_token)]\n",
    "txt_prediction = \" \".join(txt_prediction)"
   ]
  },
  {
   "cell_type": "markdown",
   "metadata": {},
   "source": [
    "## Evaluation"
   ]
  },
  {
   "cell_type": "code",
   "execution_count": 1,
   "metadata": {},
   "outputs": [],
   "source": [
    "# Open target\n",
    "from pathlib import Path\n",
    "from constants import *\n",
    "\n",
    "with open(Path(DATASET_DIR, 'wmt14_fr_test.trg'), 'r') as f:\n",
    "    target_dataset = []\n",
    "    for sentence in f:\n",
    "        target_dataset.append([int(x) for x in sentence.split(' ')[:-1]])"
   ]
  },
  {
   "cell_type": "code",
   "execution_count": 2,
   "metadata": {},
   "outputs": [
    {
     "name": "stderr",
     "output_type": "stream",
     "text": [
      "/data4/aamayuelasfernandez/anaconda3/envs/CS291K-project/lib/python3.8/site-packages/tqdm/auto.py:22: TqdmWarning: IProgress not found. Please update jupyter and ipywidgets. See https://ipywidgets.readthedocs.io/en/stable/user_install.html\n",
      "  from .autonotebook import tqdm as notebook_tqdm\n"
     ]
    }
   ],
   "source": [
    "from transformers import GPT2Tokenizer\n",
    "\n",
    "tokenizer = GPT2Tokenizer.from_pretrained('./models/tokenizer')"
   ]
  },
  {
   "cell_type": "code",
   "execution_count": 3,
   "metadata": {},
   "outputs": [],
   "source": [
    "txt_targets = []\n",
    "for sentence in target_dataset:\n",
    "    decoded_sentence = tokenizer.decode(sentence)\n",
    "    txt_target = [token for token in decoded_sentence.split(' ') if (token != tokenizer.bos_token and token != tokenizer.eos_token)]\n",
    "    txt_targets.append(txt_target)\n"
   ]
  },
  {
   "cell_type": "code",
   "execution_count": 6,
   "metadata": {},
   "outputs": [],
   "source": [
    "PREDICTIONS_DIR = \"./predictions/\"\n",
    "\n",
    "with open(PREDICTIONS_DIR + \"wmt14_en_fr_llm.txt\", 'r') as f:\n",
    "    txt_predictions = f.readlines()"
   ]
  },
  {
   "cell_type": "code",
   "execution_count": 12,
   "metadata": {},
   "outputs": [
    {
     "name": "stdout",
     "output_type": "stream",
     "text": [
      "BLEU score:  1.0\n"
     ]
    }
   ],
   "source": [
    "from nltk.translate.bleu_score import sentence_bleu\n",
    "import numpy as np\n",
    "\n",
    "bleu_scores = []\n",
    "for i in range(len(txt_predictions)):\n",
    "    score = sentence_bleu([txt_targets[i]], txt_predictions[i].split(\" \")[:-1], )\n",
    "    bleu_scores.append(score)\n",
    "\n",
    "print(\"BLEU score: \", np.mean(bleu_scores))"
   ]
  },
  {
   "cell_type": "code",
   "execution_count": null,
   "metadata": {},
   "outputs": [],
   "source": []
  }
 ],
 "metadata": {
  "kernelspec": {
   "display_name": "Python 3.8.13 ('CS291K-project')",
   "language": "python",
   "name": "python3"
  },
  "language_info": {
   "codemirror_mode": {
    "name": "ipython",
    "version": 3
   },
   "file_extension": ".py",
   "mimetype": "text/x-python",
   "name": "python",
   "nbconvert_exporter": "python",
   "pygments_lexer": "ipython3",
   "version": "3.8.13"
  },
  "orig_nbformat": 4,
  "vscode": {
   "interpreter": {
    "hash": "f7d541b5918165d5adb7c6fe2fda77ad0419e8950cc274b49b3fb38f2077d078"
   }
  }
 },
 "nbformat": 4,
 "nbformat_minor": 2
}
