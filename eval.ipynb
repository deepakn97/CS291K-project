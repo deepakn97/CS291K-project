{
 "cells": [
  {
   "cell_type": "markdown",
   "metadata": {},
   "source": [
    "# Evaluation"
   ]
  },
  {
   "cell_type": "markdown",
   "metadata": {},
   "source": [
    "## Open dataset"
   ]
  },
  {
   "cell_type": "code",
   "execution_count": 30,
   "metadata": {},
   "outputs": [],
   "source": [
    "from pathlib import Path\n",
    "from constants import *\n",
    "\n",
    "# Open source\n",
    "with open(Path(DATASET_DIR, 'wmt14_en_test.src'), 'r') as f:\n",
    "    source_dataset = []\n",
    "    for sentence in f:\n",
    "        source_dataset.append([int(x) for x in sentence.split(' ')[:-1]])\n",
    "\n",
    "# Open target\n",
    "with open(Path(DATASET_DIR, 'wmt14_fr_test.trg'), 'r') as f:\n",
    "    target_dataset = []\n",
    "    for sentence in f:\n",
    "        target_dataset.append([int(x) for x in sentence.split(' ')[:-1]])\n"
   ]
  },
  {
   "cell_type": "markdown",
   "metadata": {},
   "source": [
    "## Create the model"
   ]
  },
  {
   "cell_type": "code",
   "execution_count": 28,
   "metadata": {},
   "outputs": [],
   "source": [
    "from models import Transformer\n",
    "\n",
    "source_vocab_size = 20\n",
    "target_vocab_size = 20\n",
    "num_layers = 2\n",
    "seq_length = 10\n",
    "model = Transformer(embed_dim=512, src_vocab_size=source_vocab_size, \n",
    "                trg_vocab_size=target_vocab_size, seq_length=seq_length,\n",
    "                num_layers_enc=num_layers, num_layers_dec=num_layers,\n",
    "                hidden_size=2048, n_head=8, enc_dropout=0.2, dec_dropout=0.2)"
   ]
  },
  {
   "cell_type": "markdown",
   "metadata": {},
   "source": [
    "## Make a prediction"
   ]
  },
  {
   "cell_type": "code",
   "execution_count": 29,
   "metadata": {},
   "outputs": [],
   "source": [
    "import torch\n",
    "from utils import create_mask"
   ]
  },
  {
   "cell_type": "code",
   "execution_count": 4,
   "metadata": {},
   "outputs": [],
   "source": [
    "source = source_dataset[0]\n",
    "target = target_dataset[0]"
   ]
  },
  {
   "cell_type": "code",
   "execution_count": 7,
   "metadata": {},
   "outputs": [
    {
     "name": "stderr",
     "output_type": "stream",
     "text": [
      "/data4/aamayuelasfernandez/CS291K-project/layers.py:305: UserWarning: Implicit dimension choice for softmax has been deprecated. Change the call to include dim=X as an argument.\n",
      "  out = F.softmax(self.fully_connected_out(x))\n"
     ]
    },
    {
     "name": "stdout",
     "output_type": "stream",
     "text": [
      "tensor([[0, 0, 0, 0, 0, 0, 0, 0, 0, 0, 0]])\n"
     ]
    }
   ],
   "source": [
    "# Prediction \n",
    "source = torch.LongTensor([[0, 1, 2, 3, 4, 5, 6, 7, 8, 9]])\n",
    "max_seq_len = 512\n",
    "source_mask = torch.ones(1, 1, source.size(1))\n",
    "target = torch.tensor([[0]])\n",
    "target_mask = create_mask(target.size(1)).type_as(source.data)\n",
    "# Prediction = \n",
    "print(model.generate_greedy(source, target, source_mask, target_mask, max_seq_len))"
   ]
  },
  {
   "cell_type": "markdown",
   "metadata": {},
   "source": [
    "## Evaluation"
   ]
  },
  {
   "cell_type": "code",
   "execution_count": 9,
   "metadata": {},
   "outputs": [],
   "source": [
    "# Open target\n",
    "from pathlib import Path\n",
    "from constants import *\n",
    "\n",
    "with open(Path(DATASET_DIR, 'wmt14_fr_test.trg'), 'r') as f:\n",
    "    target_dataset = []\n",
    "    for sentence in f:\n",
    "        target_dataset.append([int(x) for x in sentence.split(' ')[:-1]])"
   ]
  },
  {
   "cell_type": "code",
   "execution_count": 10,
   "metadata": {},
   "outputs": [
    {
     "name": "stderr",
     "output_type": "stream",
     "text": [
      "Special tokens have been added in the vocabulary, make sure the associated word embedding are fine-tuned or trained.\n"
     ]
    }
   ],
   "source": [
    "from transformers import GPT2Tokenizer\n",
    "\n",
    "tokenizer = GPT2Tokenizer.from_pretrained(\n",
    "        \"gpt2\",\n",
    "        unk_token=\"<|unk|>\",\n",
    "        bos_token=\"<|bos|>\",\n",
    "        eos_token=\"<|eos|>\", \n",
    "        )"
   ]
  },
  {
   "cell_type": "code",
   "execution_count": 18,
   "metadata": {},
   "outputs": [],
   "source": [
    "txt_targets = []\n",
    "for sentence in target_dataset:\n",
    "    decoded_sentence = tokenizer.decode(sentence)\n",
    "    txt_target = [token for token in decoded_sentence.split(' ') if (token != '<|bos|>' and token != '<|eos|>')]\n",
    "    txt_targets.append(txt_target)\n"
   ]
  },
  {
   "cell_type": "code",
   "execution_count": 19,
   "metadata": {},
   "outputs": [],
   "source": [
    "PREDICTIONS_DIR = \"./predictions/\"\n",
    "\n",
    "with open(PREDICTIONS_DIR + \"wmt14_en_fr.txt\", 'r') as f:\n",
    "    txt_predictions = f.readlines()"
   ]
  },
  {
   "cell_type": "code",
   "execution_count": 48,
   "metadata": {},
   "outputs": [
    {
     "name": "stdout",
     "output_type": "stream",
     "text": [
      "BLEU score:  0.9147635738284462\n"
     ]
    }
   ],
   "source": [
    "from nltk.translate.bleu_score import sentence_bleu\n",
    "\n",
    "bleu_scores = []\n",
    "for i in range(len(txt_predictions)):\n",
    "    score = sentence_bleu([txt_targets[i]], txt_predictions[i].split(\" \"), )\n",
    "    bleu_scores.append(score)\n",
    "\n",
    "print(\"BLEU score: \", sum(bleu_scores)/len(bleu_scores))"
   ]
  },
  {
   "cell_type": "code",
   "execution_count": null,
   "metadata": {},
   "outputs": [],
   "source": []
  }
 ],
 "metadata": {
  "kernelspec": {
   "display_name": "Python 3.8.13 ('CS291K-project')",
   "language": "python",
   "name": "python3"
  },
  "language_info": {
   "codemirror_mode": {
    "name": "ipython",
    "version": 3
   },
   "file_extension": ".py",
   "mimetype": "text/x-python",
   "name": "python",
   "nbconvert_exporter": "python",
   "pygments_lexer": "ipython3",
   "version": "3.8.13"
  },
  "orig_nbformat": 4,
  "vscode": {
   "interpreter": {
    "hash": "f7d541b5918165d5adb7c6fe2fda77ad0419e8950cc274b49b3fb38f2077d078"
   }
  }
 },
 "nbformat": 4,
 "nbformat_minor": 2
}
